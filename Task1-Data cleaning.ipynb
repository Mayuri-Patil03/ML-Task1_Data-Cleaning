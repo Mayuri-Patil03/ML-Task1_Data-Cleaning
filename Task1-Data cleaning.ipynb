{
 "cells": [
  {
   "cell_type": "code",
   "execution_count": 1,
   "id": "f814f181-d9fa-441e-a6ac-0631a1d2ac02",
   "metadata": {},
   "outputs": [],
   "source": [
    "#import libraries\n",
    "\n",
    "import numpy as np\n",
    "import pandas as pd\n",
    "import matplotlib.pyplot as plt\n",
    "import seaborn as sns"
   ]
  },
  {
   "cell_type": "code",
   "execution_count": 2,
   "id": "344264e4-68da-4c11-a75c-7e3cbba59f17",
   "metadata": {},
   "outputs": [
    {
     "data": {
      "text/html": [
       "<div>\n",
       "<style scoped>\n",
       "    .dataframe tbody tr th:only-of-type {\n",
       "        vertical-align: middle;\n",
       "    }\n",
       "\n",
       "    .dataframe tbody tr th {\n",
       "        vertical-align: top;\n",
       "    }\n",
       "\n",
       "    .dataframe thead th {\n",
       "        text-align: right;\n",
       "    }\n",
       "</style>\n",
       "<table border=\"1\" class=\"dataframe\">\n",
       "  <thead>\n",
       "    <tr style=\"text-align: right;\">\n",
       "      <th></th>\n",
       "      <th>Name</th>\n",
       "      <th>Age</th>\n",
       "      <th>Gender</th>\n",
       "      <th>Email</th>\n",
       "      <th>Join_Date</th>\n",
       "      <th>Salary</th>\n",
       "      <th>Department</th>\n",
       "    </tr>\n",
       "  </thead>\n",
       "  <tbody>\n",
       "    <tr>\n",
       "      <th>0</th>\n",
       "      <td>Alice</td>\n",
       "      <td>NaN</td>\n",
       "      <td>NaN</td>\n",
       "      <td>user0@example.com</td>\n",
       "      <td>2021-05-21</td>\n",
       "      <td>NaN</td>\n",
       "      <td>Admin</td>\n",
       "    </tr>\n",
       "    <tr>\n",
       "      <th>1</th>\n",
       "      <td>Bob</td>\n",
       "      <td>40</td>\n",
       "      <td>M</td>\n",
       "      <td>user1@example.com</td>\n",
       "      <td>NaN</td>\n",
       "      <td>50000</td>\n",
       "      <td>Engineering</td>\n",
       "    </tr>\n",
       "    <tr>\n",
       "      <th>2</th>\n",
       "      <td>Charlie</td>\n",
       "      <td>unknown</td>\n",
       "      <td>Male</td>\n",
       "      <td>user2@example.com</td>\n",
       "      <td>2020/01/01</td>\n",
       "      <td>50000</td>\n",
       "      <td>HR</td>\n",
       "    </tr>\n",
       "    <tr>\n",
       "      <th>3</th>\n",
       "      <td>David</td>\n",
       "      <td>NaN</td>\n",
       "      <td>NaN</td>\n",
       "      <td>user3@example.com</td>\n",
       "      <td>2021-05-21</td>\n",
       "      <td>70000</td>\n",
       "      <td>Admin</td>\n",
       "    </tr>\n",
       "    <tr>\n",
       "      <th>4</th>\n",
       "      <td>Eva</td>\n",
       "      <td>35</td>\n",
       "      <td>Other</td>\n",
       "      <td>user4@example.com</td>\n",
       "      <td>July 4, 2020</td>\n",
       "      <td>70000</td>\n",
       "      <td>Engineering</td>\n",
       "    </tr>\n",
       "    <tr>\n",
       "      <th>5</th>\n",
       "      <td>Frank</td>\n",
       "      <td>unknown</td>\n",
       "      <td>Other</td>\n",
       "      <td>user5@example.com</td>\n",
       "      <td>NaN</td>\n",
       "      <td>70000</td>\n",
       "      <td>Admin</td>\n",
       "    </tr>\n",
       "    <tr>\n",
       "      <th>6</th>\n",
       "      <td>Grace</td>\n",
       "      <td>unknown</td>\n",
       "      <td>Female</td>\n",
       "      <td>user6@example.com</td>\n",
       "      <td>July 4, 2020</td>\n",
       "      <td>80000</td>\n",
       "      <td>Engineering</td>\n",
       "    </tr>\n",
       "    <tr>\n",
       "      <th>7</th>\n",
       "      <td>Hannah</td>\n",
       "      <td>NaN</td>\n",
       "      <td>Other</td>\n",
       "      <td>user7@example.com</td>\n",
       "      <td>2021-05-21</td>\n",
       "      <td>NaN</td>\n",
       "      <td>HR</td>\n",
       "    </tr>\n",
       "    <tr>\n",
       "      <th>8</th>\n",
       "      <td>Ivy</td>\n",
       "      <td>30</td>\n",
       "      <td>Female</td>\n",
       "      <td>user8@example.com</td>\n",
       "      <td>NaN</td>\n",
       "      <td>50000</td>\n",
       "      <td>Engineering</td>\n",
       "    </tr>\n",
       "    <tr>\n",
       "      <th>9</th>\n",
       "      <td>Jack</td>\n",
       "      <td>35</td>\n",
       "      <td>Male</td>\n",
       "      <td>user9@example.com</td>\n",
       "      <td>2020/01/01</td>\n",
       "      <td>80000</td>\n",
       "      <td>Engineering</td>\n",
       "    </tr>\n",
       "  </tbody>\n",
       "</table>\n",
       "</div>"
      ],
      "text/plain": [
       "      Name      Age  Gender              Email     Join_Date Salary  \\\n",
       "0    Alice      NaN     NaN  user0@example.com    2021-05-21    NaN   \n",
       "1      Bob       40       M  user1@example.com           NaN  50000   \n",
       "2  Charlie  unknown    Male  user2@example.com    2020/01/01  50000   \n",
       "3    David      NaN     NaN  user3@example.com    2021-05-21  70000   \n",
       "4      Eva       35   Other  user4@example.com  July 4, 2020  70000   \n",
       "5    Frank  unknown   Other  user5@example.com           NaN  70000   \n",
       "6    Grace  unknown  Female  user6@example.com  July 4, 2020  80000   \n",
       "7   Hannah      NaN   Other  user7@example.com    2021-05-21    NaN   \n",
       "8      Ivy       30  Female  user8@example.com           NaN  50000   \n",
       "9     Jack       35    Male  user9@example.com    2020/01/01  80000   \n",
       "\n",
       "    Department  \n",
       "0        Admin  \n",
       "1  Engineering  \n",
       "2           HR  \n",
       "3        Admin  \n",
       "4  Engineering  \n",
       "5        Admin  \n",
       "6  Engineering  \n",
       "7           HR  \n",
       "8  Engineering  \n",
       "9  Engineering  "
      ]
     },
     "execution_count": 2,
     "metadata": {},
     "output_type": "execute_result"
    }
   ],
   "source": [
    "#import dataset\n",
    "ds=pd.read_csv(\"raw_messy_dataset.csv\")\n",
    "ds.head(10)"
   ]
  },
  {
   "cell_type": "code",
   "execution_count": 3,
   "id": "6ae8d59f-5c63-48dc-9452-1f16e07a0b1c",
   "metadata": {},
   "outputs": [
    {
     "name": "stdout",
     "output_type": "stream",
     "text": [
      "<class 'pandas.core.frame.DataFrame'>\n",
      "RangeIndex: 105 entries, 0 to 104\n",
      "Data columns (total 7 columns):\n",
      " #   Column      Non-Null Count  Dtype \n",
      "---  ------      --------------  ----- \n",
      " 0   Name        105 non-null    object\n",
      " 1   Age         72 non-null     object\n",
      " 2   Gender      89 non-null     object\n",
      " 3   Email       95 non-null     object\n",
      " 4   Join_Date   70 non-null     object\n",
      " 5   Salary      78 non-null     object\n",
      " 6   Department  89 non-null     object\n",
      "dtypes: object(7)\n",
      "memory usage: 5.9+ KB\n"
     ]
    }
   ],
   "source": [
    "ds.info()"
   ]
  },
  {
   "cell_type": "code",
   "execution_count": 4,
   "id": "1d2ef4e5-e214-40e0-bc2c-31be06c7fa5d",
   "metadata": {},
   "outputs": [
    {
     "data": {
      "text/html": [
       "<div>\n",
       "<style scoped>\n",
       "    .dataframe tbody tr th:only-of-type {\n",
       "        vertical-align: middle;\n",
       "    }\n",
       "\n",
       "    .dataframe tbody tr th {\n",
       "        vertical-align: top;\n",
       "    }\n",
       "\n",
       "    .dataframe thead th {\n",
       "        text-align: right;\n",
       "    }\n",
       "</style>\n",
       "<table border=\"1\" class=\"dataframe\">\n",
       "  <thead>\n",
       "    <tr style=\"text-align: right;\">\n",
       "      <th></th>\n",
       "      <th>Name</th>\n",
       "      <th>Age</th>\n",
       "      <th>Gender</th>\n",
       "      <th>Email</th>\n",
       "      <th>Join_Date</th>\n",
       "      <th>Salary</th>\n",
       "      <th>Department</th>\n",
       "    </tr>\n",
       "  </thead>\n",
       "  <tbody>\n",
       "    <tr>\n",
       "      <th>count</th>\n",
       "      <td>105</td>\n",
       "      <td>72</td>\n",
       "      <td>89</td>\n",
       "      <td>95</td>\n",
       "      <td>70</td>\n",
       "      <td>78</td>\n",
       "      <td>89</td>\n",
       "    </tr>\n",
       "    <tr>\n",
       "      <th>unique</th>\n",
       "      <td>10</td>\n",
       "      <td>5</td>\n",
       "      <td>5</td>\n",
       "      <td>90</td>\n",
       "      <td>4</td>\n",
       "      <td>5</td>\n",
       "      <td>5</td>\n",
       "    </tr>\n",
       "    <tr>\n",
       "      <th>top</th>\n",
       "      <td>Alice</td>\n",
       "      <td>40</td>\n",
       "      <td>Male</td>\n",
       "      <td>user0@example.com</td>\n",
       "      <td>2021-05-21</td>\n",
       "      <td>50000</td>\n",
       "      <td>Engineering</td>\n",
       "    </tr>\n",
       "    <tr>\n",
       "      <th>freq</th>\n",
       "      <td>11</td>\n",
       "      <td>22</td>\n",
       "      <td>22</td>\n",
       "      <td>2</td>\n",
       "      <td>26</td>\n",
       "      <td>22</td>\n",
       "      <td>26</td>\n",
       "    </tr>\n",
       "  </tbody>\n",
       "</table>\n",
       "</div>"
      ],
      "text/plain": [
       "         Name Age Gender              Email   Join_Date Salary   Department\n",
       "count     105  72     89                 95          70     78           89\n",
       "unique     10   5      5                 90           4      5            5\n",
       "top     Alice  40   Male  user0@example.com  2021-05-21  50000  Engineering\n",
       "freq       11  22     22                  2          26     22           26"
      ]
     },
     "execution_count": 4,
     "metadata": {},
     "output_type": "execute_result"
    }
   ],
   "source": [
    "ds.describe()"
   ]
  },
  {
   "cell_type": "code",
   "execution_count": 8,
   "id": "f150392f-6138-49c1-904d-b29fd01a0134",
   "metadata": {},
   "outputs": [
    {
     "data": {
      "text/plain": [
       "np.int64(0)"
      ]
     },
     "execution_count": 8,
     "metadata": {},
     "output_type": "execute_result"
    }
   ],
   "source": [
    "#searching for duplications\n",
    "ds.duplicated().sum()"
   ]
  },
  {
   "cell_type": "code",
   "execution_count": 7,
   "id": "6eb16a78-6088-4d63-9b76-b1d25c0ecaa9",
   "metadata": {},
   "outputs": [],
   "source": [
    "#Remove duplications\n",
    "ds.drop_duplicates(inplace=True)"
   ]
  },
  {
   "cell_type": "code",
   "execution_count": 9,
   "id": "ec528e10-841a-47b6-95ca-09ca5492e91e",
   "metadata": {},
   "outputs": [
    {
     "data": {
      "text/plain": [
       "Index(['Name', 'Age', 'Gender', 'Email', 'Join_Date', 'Salary', 'Department'], dtype='object')"
      ]
     },
     "execution_count": 9,
     "metadata": {},
     "output_type": "execute_result"
    }
   ],
   "source": [
    "#to get header of colums\n",
    "ds.columns"
   ]
  },
  {
   "cell_type": "code",
   "execution_count": 11,
   "id": "82819f7e-0593-4810-8568-0727cba19c0d",
   "metadata": {},
   "outputs": [],
   "source": [
    "#Handling age\n",
    "ds[\"Age\"]=pd.to_numeric(ds[\"Age\"],errors='coerce')\n"
   ]
  },
  {
   "cell_type": "code",
   "execution_count": 15,
   "id": "1fa72c95-4c6c-4fb6-80ca-df5ee72595e1",
   "metadata": {},
   "outputs": [
    {
     "data": {
      "text/plain": [
       "array([35., 40., 30., 25.])"
      ]
     },
     "execution_count": 15,
     "metadata": {},
     "output_type": "execute_result"
    }
   ],
   "source": [
    "ds[\"Age\"].unique()"
   ]
  },
  {
   "cell_type": "code",
   "execution_count": 12,
   "id": "bdeb060c-41bc-4449-ba91-c57d49b16cf4",
   "metadata": {},
   "outputs": [
    {
     "name": "stdout",
     "output_type": "stream",
     "text": [
      "<class 'pandas.core.frame.DataFrame'>\n",
      "Index: 100 entries, 0 to 99\n",
      "Data columns (total 7 columns):\n",
      " #   Column      Non-Null Count  Dtype  \n",
      "---  ------      --------------  -----  \n",
      " 0   Name        100 non-null    object \n",
      " 1   Age         57 non-null     float64\n",
      " 2   Gender      86 non-null     object \n",
      " 3   Email       90 non-null     object \n",
      " 4   Join_Date   66 non-null     object \n",
      " 5   Salary      74 non-null     object \n",
      " 6   Department  84 non-null     object \n",
      "dtypes: float64(1), object(6)\n",
      "memory usage: 6.2+ KB\n"
     ]
    }
   ],
   "source": [
    "ds.info()"
   ]
  },
  {
   "cell_type": "code",
   "execution_count": 13,
   "id": "1db874f5-9f76-47ab-8ba5-50f829838786",
   "metadata": {},
   "outputs": [
    {
     "name": "stderr",
     "output_type": "stream",
     "text": [
      "C:\\Users\\mayup\\AppData\\Local\\Temp\\ipykernel_14156\\4230202996.py:2: FutureWarning: A value is trying to be set on a copy of a DataFrame or Series through chained assignment using an inplace method.\n",
      "The behavior will change in pandas 3.0. This inplace method will never work because the intermediate object on which we are setting values always behaves as a copy.\n",
      "\n",
      "For example, when doing 'df[col].method(value, inplace=True)', try using 'df.method({col: value}, inplace=True)' or df[col] = df[col].method(value) instead, to perform the operation inplace on the original object.\n",
      "\n",
      "\n",
      "  ds[\"Age\"].fillna(x,inplace=True)\n"
     ]
    }
   ],
   "source": [
    "#to fill missing values\n",
    "x=ds[\"Age\"].median()\n",
    "ds[\"Age\"].fillna(x,inplace=True)"
   ]
  },
  {
   "cell_type": "code",
   "execution_count": 14,
   "id": "8122c95e-8e3b-4c63-94db-6d1022848467",
   "metadata": {},
   "outputs": [
    {
     "name": "stdout",
     "output_type": "stream",
     "text": [
      "<class 'pandas.core.frame.DataFrame'>\n",
      "Index: 100 entries, 0 to 99\n",
      "Data columns (total 7 columns):\n",
      " #   Column      Non-Null Count  Dtype  \n",
      "---  ------      --------------  -----  \n",
      " 0   Name        100 non-null    object \n",
      " 1   Age         100 non-null    float64\n",
      " 2   Gender      86 non-null     object \n",
      " 3   Email       90 non-null     object \n",
      " 4   Join_Date   66 non-null     object \n",
      " 5   Salary      74 non-null     object \n",
      " 6   Department  84 non-null     object \n",
      "dtypes: float64(1), object(6)\n",
      "memory usage: 6.2+ KB\n"
     ]
    }
   ],
   "source": [
    "ds.info()"
   ]
  },
  {
   "cell_type": "code",
   "execution_count": 16,
   "id": "f14e0949-c23b-4ccd-b59d-fe18d8860737",
   "metadata": {},
   "outputs": [
    {
     "data": {
      "text/plain": [
       "array([nan, 'M', 'Male', 'Other', 'Female', 'F'], dtype=object)"
      ]
     },
     "execution_count": 16,
     "metadata": {},
     "output_type": "execute_result"
    }
   ],
   "source": [
    "ds[\"Gender\"].unique()"
   ]
  },
  {
   "cell_type": "code",
   "execution_count": 19,
   "id": "c95038b9-e715-459f-b211-6317bb682717",
   "metadata": {},
   "outputs": [
    {
     "name": "stdout",
     "output_type": "stream",
     "text": [
      "<class 'pandas.core.frame.DataFrame'>\n",
      "Index: 100 entries, 0 to 99\n",
      "Data columns (total 7 columns):\n",
      " #   Column      Non-Null Count  Dtype  \n",
      "---  ------      --------------  -----  \n",
      " 0   Name        100 non-null    object \n",
      " 1   Age         100 non-null    float64\n",
      " 2   Gender      86 non-null     object \n",
      " 3   Email       90 non-null     object \n",
      " 4   Join_Date   66 non-null     object \n",
      " 5   Salary      74 non-null     object \n",
      " 6   Department  84 non-null     object \n",
      "dtypes: float64(1), object(6)\n",
      "memory usage: 6.2+ KB\n"
     ]
    }
   ],
   "source": [
    "ds[\"Gender\"]=ds[\"Gender\"].replace({\n",
    "    \"M\":\"Male\",\"F\":\"Female\",\"\":\"None\"\n",
    "})\n",
    "ds.info()"
   ]
  },
  {
   "cell_type": "code",
   "execution_count": 20,
   "id": "34ed13fa-77bc-4fc9-8273-ad0eb2282653",
   "metadata": {},
   "outputs": [
    {
     "data": {
      "text/plain": [
       "array([nan, 'Male', 'Other', 'Female'], dtype=object)"
      ]
     },
     "execution_count": 20,
     "metadata": {},
     "output_type": "execute_result"
    }
   ],
   "source": [
    "ds[\"Gender\"].unique()"
   ]
  },
  {
   "cell_type": "code",
   "execution_count": 21,
   "id": "7e625668-6c27-460b-957f-5a983a1791e8",
   "metadata": {},
   "outputs": [
    {
     "name": "stderr",
     "output_type": "stream",
     "text": [
      "C:\\Users\\mayup\\AppData\\Local\\Temp\\ipykernel_14156\\4181753720.py:2: FutureWarning: A value is trying to be set on a copy of a DataFrame or Series through chained assignment using an inplace method.\n",
      "The behavior will change in pandas 3.0. This inplace method will never work because the intermediate object on which we are setting values always behaves as a copy.\n",
      "\n",
      "For example, when doing 'df[col].method(value, inplace=True)', try using 'df.method({col: value}, inplace=True)' or df[col] = df[col].method(value) instead, to perform the operation inplace on the original object.\n",
      "\n",
      "\n",
      "  ds[\"Email\"].fillna(\"None\",inplace=True)\n"
     ]
    }
   ],
   "source": [
    "#Handling empty colums\n",
    "ds[\"Email\"].fillna(\"None\",inplace=True)"
   ]
  },
  {
   "cell_type": "code",
   "execution_count": 22,
   "id": "120388ad-b577-436b-aa7b-c87b45dab190",
   "metadata": {},
   "outputs": [
    {
     "name": "stdout",
     "output_type": "stream",
     "text": [
      "       Name   Age  Gender               Email     Join_Date   Salary   Department\n",
      "0     Alice  35.0     NaN   user0@example.com    2021-05-21      NaN        Admin\n",
      "1       Bob  40.0    Male   user1@example.com           NaN    50000  Engineering\n",
      "2   Charlie  35.0    Male   user2@example.com    2020/01/01    50000           HR\n",
      "3     David  35.0     NaN   user3@example.com    2021-05-21    70000        Admin\n",
      "4       Eva  35.0   Other   user4@example.com  July 4, 2020    70000  Engineering\n",
      "5     Frank  35.0   Other   user5@example.com           NaN    70000        Admin\n",
      "6     Grace  35.0  Female   user6@example.com  July 4, 2020    80000  Engineering\n",
      "7    Hannah  35.0   Other   user7@example.com    2021-05-21      NaN           HR\n",
      "8       Ivy  30.0  Female   user8@example.com           NaN    50000  Engineering\n",
      "9      Jack  35.0    Male   user9@example.com    2020/01/01    80000  Engineering\n",
      "10    Alice  35.0    Male  user10@example.com    2021-05-21    70000  Engineering\n",
      "11      Bob  35.0    Male  user11@example.com  July 4, 2020    50000        Sales\n",
      "12  Charlie  35.0    Male  user12@example.com    22-06-2022    80000        Sales\n",
      "13    David  35.0   Other  user13@example.com           NaN      NaN        Sales\n",
      "14      Eva  40.0    Male  user14@example.com  July 4, 2020    80000           HR\n",
      "15    Frank  35.0   Other  user15@example.com           NaN      NaN        Admin\n",
      "16    Grace  35.0   Other  user16@example.com    2021-05-21    70000          NaN\n",
      "17   Hannah  35.0    Male  user17@example.com           NaN      NaN  Engineering\n",
      "18      Ivy  30.0    Male  user18@example.com    2021-05-21    50000  Engineering\n",
      "19     Jack  40.0    Male  user19@example.com           NaN    70000           HR\n",
      "20    Alice  35.0    Male  user20@example.com    2021-05-21    50000  Engineering\n",
      "21      Bob  35.0    Male  user21@example.com    22-06-2022  unknown        Sales\n",
      "22  Charlie  30.0  Female  user22@example.com           NaN    60000          NaN\n",
      "23    David  40.0  Female  user23@example.com           NaN      NaN    Marketing\n",
      "24      Eva  35.0    Male  user24@example.com           NaN    60000  Engineering\n",
      "25    Frank  25.0  Female  user25@example.com    22-06-2022    60000        Sales\n",
      "26    Grace  40.0  Female  user26@example.com  July 4, 2020      NaN    Marketing\n",
      "27   Hannah  30.0    Male  user27@example.com    2021-05-21    70000          NaN\n",
      "28      Ivy  35.0  Female  user28@example.com    2020/01/01  unknown    Marketing\n",
      "29     Jack  35.0   Other  user29@example.com    2021-05-21    50000        Sales\n",
      "30    Alice  40.0  Female  user30@example.com    2021-05-21    80000        Admin\n",
      "31      Bob  25.0  Female  user31@example.com  July 4, 2020    50000        Admin\n",
      "32  Charlie  25.0    Male  user32@example.com    2021-05-21    80000    Marketing\n",
      "33    David  35.0    Male  user33@example.com    22-06-2022    50000           HR\n",
      "34      Eva  35.0    Male  user34@example.com    22-06-2022      NaN    Marketing\n",
      "35    Frank  35.0    Male  user35@example.com           NaN  unknown  Engineering\n",
      "36    Grace  30.0  Female  user36@example.com           NaN    80000  Engineering\n",
      "37   Hannah  40.0    Male  user37@example.com    2020/01/01      NaN        Admin\n",
      "38      Ivy  40.0     NaN  user38@example.com    2021-05-21    70000           HR\n",
      "39     Jack  35.0   Other  user39@example.com    2021-05-21    50000        Sales\n",
      "40    Alice  35.0  Female  user40@example.com  July 4, 2020    50000  Engineering\n",
      "41      Bob  35.0    Male  user41@example.com           NaN    80000        Admin\n",
      "42  Charlie  35.0     NaN  user42@example.com    22-06-2022    70000          NaN\n",
      "43    David  35.0  Female  user43@example.com    2020/01/01    70000        Admin\n",
      "44      Eva  35.0  Female  user44@example.com           NaN      NaN  Engineering\n",
      "45    Frank  40.0    Male  user45@example.com    22-06-2022      NaN  Engineering\n",
      "46    Grace  35.0  Female  user46@example.com           NaN      NaN        Admin\n",
      "47   Hannah  40.0   Other  user47@example.com           NaN      NaN        Sales\n",
      "48      Ivy  25.0     NaN  user48@example.com  July 4, 2020      NaN    Marketing\n",
      "49     Jack  35.0  Female  user49@example.com  July 4, 2020      NaN  Engineering\n",
      "50    Alice  35.0    Male  user50@example.com    2021-05-21      NaN        Admin\n",
      "51      Bob  35.0   Other  user51@example.com           NaN  unknown        Admin\n",
      "52  Charlie  35.0  Female  user52@example.com    2020/01/01    70000           HR\n",
      "53    David  35.0     NaN  user53@example.com           NaN      NaN    Marketing\n",
      "54      Eva  25.0  Female  user54@example.com    22-06-2022    70000          NaN\n",
      "55    Frank  35.0    Male  user55@example.com           NaN    70000        Sales\n",
      "56    Grace  30.0  Female  user56@example.com           NaN    60000          NaN\n",
      "57   Hannah  40.0  Female  user57@example.com  July 4, 2020  unknown    Marketing\n",
      "58      Ivy  25.0    Male  user58@example.com    2021-05-21      NaN    Marketing\n",
      "59     Jack  40.0   Other  user59@example.com    2021-05-21    50000    Marketing\n",
      "60    Alice  35.0  Female  user60@example.com           NaN    80000          NaN\n",
      "61      Bob  30.0    Male  user61@example.com  July 4, 2020      NaN    Marketing\n",
      "62  Charlie  30.0    Male  user62@example.com           NaN    50000        Admin\n",
      "63    David  25.0   Other  user63@example.com    2020/01/01  unknown          NaN\n",
      "64      Eva  30.0    Male  user64@example.com  July 4, 2020    80000    Marketing\n",
      "65    Frank  35.0     NaN  user65@example.com           NaN  unknown        Admin\n",
      "66    Grace  30.0   Other  user66@example.com           NaN    70000           HR\n",
      "67   Hannah  40.0   Other  user67@example.com  July 4, 2020    80000    Marketing\n",
      "68      Ivy  40.0  Female  user68@example.com           NaN    70000          NaN\n",
      "69     Jack  35.0   Other  user69@example.com  July 4, 2020    50000  Engineering\n",
      "70    Alice  40.0    Male  user70@example.com    22-06-2022    50000    Marketing\n",
      "71      Bob  35.0   Other  user71@example.com  July 4, 2020    80000  Engineering\n",
      "72  Charlie  40.0  Female  user72@example.com  July 4, 2020    80000        Admin\n",
      "73    David  35.0  Female  user73@example.com           NaN      NaN           HR\n",
      "74      Eva  35.0     NaN  user74@example.com           NaN  unknown        Sales\n",
      "75    Frank  35.0    Male  user75@example.com    2021-05-21      NaN           HR\n",
      "76    Grace  35.0  Female  user76@example.com    2021-05-21  unknown    Marketing\n",
      "77   Hannah  25.0  Female  user77@example.com    22-06-2022      NaN  Engineering\n",
      "78      Ivy  40.0   Other  user78@example.com    2021-05-21    70000  Engineering\n",
      "79     Jack  30.0     NaN  user79@example.com  July 4, 2020    80000          NaN\n",
      "80    Alice  40.0    Male  user80@example.com           NaN    50000  Engineering\n",
      "81      Bob  30.0   Other  user81@example.com    2021-05-21  unknown          NaN\n",
      "82  Charlie  35.0     NaN  user82@example.com    2021-05-21  unknown        Admin\n",
      "83    David  35.0    Male  user83@example.com    22-06-2022    50000        Sales\n",
      "84      Eva  35.0    Male  user84@example.com           NaN      NaN    Marketing\n",
      "85    Frank  30.0    Male  user85@example.com    22-06-2022  unknown          NaN\n",
      "86    Grace  40.0    Male  user86@example.com  July 4, 2020      NaN        Sales\n",
      "87   Hannah  35.0    Male  user87@example.com           NaN    70000  Engineering\n",
      "88      Ivy  35.0     NaN  user88@example.com    22-06-2022    80000  Engineering\n",
      "89     Jack  35.0     NaN  user89@example.com    2021-05-21    50000        Sales\n",
      "90    Alice  30.0  Female                None           NaN    80000  Engineering\n",
      "91      Bob  30.0  Female                None           NaN      NaN        Admin\n",
      "92  Charlie  40.0    Male                None    2021-05-21  unknown        Admin\n",
      "93    David  30.0    Male                None    22-06-2022  unknown        Sales\n",
      "94      Eva  30.0     NaN                None    2021-05-21      NaN          NaN\n",
      "95    Frank  35.0    Male                None           NaN    50000          NaN\n",
      "96    Grace  40.0    Male                None           NaN    70000        Sales\n",
      "97   Hannah  35.0    Male                None    2020/01/01    60000          NaN\n",
      "98      Ivy  35.0  Female                None    2020/01/01    50000          NaN\n",
      "99     Jack  35.0     NaN                None  July 4, 2020    60000        Admin\n"
     ]
    }
   ],
   "source": [
    "print(ds.to_string())\n"
   ]
  },
  {
   "cell_type": "code",
   "execution_count": 25,
   "id": "c72edb43-c73c-4fd0-827f-b0bfbebcb1b3",
   "metadata": {},
   "outputs": [
    {
     "name": "stdout",
     "output_type": "stream",
     "text": [
      "<class 'pandas.core.frame.DataFrame'>\n",
      "Index: 100 entries, 0 to 99\n",
      "Data columns (total 8 columns):\n",
      " #   Column      Non-Null Count  Dtype         \n",
      "---  ------      --------------  -----         \n",
      " 0   Name        100 non-null    object        \n",
      " 1   Age         100 non-null    float64       \n",
      " 2   Gender      86 non-null     object        \n",
      " 3   Email       100 non-null    object        \n",
      " 4   Join_Date   66 non-null     object        \n",
      " 5   Salary      74 non-null     object        \n",
      " 6   Department  84 non-null     object        \n",
      " 7   join_date   24 non-null     datetime64[ns]\n",
      "dtypes: datetime64[ns](1), float64(1), object(6)\n",
      "memory usage: 7.0+ KB\n"
     ]
    }
   ],
   "source": [
    "#handling data column\n",
    "ds[\"join_date\"]=pd.to_datetime(ds[\"Join_Date\"],errors=\"coerce\")\n",
    "ds.info()"
   ]
  },
  {
   "cell_type": "code",
   "execution_count": 26,
   "id": "f098bd4f-7b82-42c2-9dc3-159645487b15",
   "metadata": {},
   "outputs": [
    {
     "name": "stdout",
     "output_type": "stream",
     "text": [
      "<class 'pandas.core.frame.DataFrame'>\n",
      "Index: 100 entries, 0 to 99\n",
      "Data columns (total 8 columns):\n",
      " #   Column      Non-Null Count  Dtype         \n",
      "---  ------      --------------  -----         \n",
      " 0   Name        100 non-null    object        \n",
      " 1   Age         100 non-null    float64       \n",
      " 2   Gender      86 non-null     object        \n",
      " 3   Email       100 non-null    object        \n",
      " 4   Join_Date   66 non-null     object        \n",
      " 5   Salary      60 non-null     float64       \n",
      " 6   Department  84 non-null     object        \n",
      " 7   join_date   24 non-null     datetime64[ns]\n",
      "dtypes: datetime64[ns](1), float64(2), object(5)\n",
      "memory usage: 7.0+ KB\n"
     ]
    }
   ],
   "source": [
    "#handling salary columns\n",
    "ds[\"Salary\"]=pd.to_numeric(ds[\"Salary\"],errors=\"coerce\")\n",
    "ds.info()"
   ]
  },
  {
   "cell_type": "code",
   "execution_count": 27,
   "id": "fbe87063-e247-45d5-b0d6-b3a512a8886f",
   "metadata": {},
   "outputs": [
    {
     "data": {
      "text/plain": [
       "array(['Admin', 'Engineering', 'HR', 'Sales', nan, 'Marketing'],\n",
       "      dtype=object)"
      ]
     },
     "execution_count": 27,
     "metadata": {},
     "output_type": "execute_result"
    }
   ],
   "source": [
    "#handling department column\n",
    "ds[\"Department\"].unique()\n"
   ]
  },
  {
   "cell_type": "code",
   "execution_count": 31,
   "id": "302d9db5-c924-49fb-a19f-2dd9b4d06854",
   "metadata": {},
   "outputs": [
    {
     "name": "stdout",
     "output_type": "stream",
     "text": [
      "<class 'pandas.core.frame.DataFrame'>\n",
      "Index: 100 entries, 0 to 99\n",
      "Data columns (total 8 columns):\n",
      " #   Column      Non-Null Count  Dtype         \n",
      "---  ------      --------------  -----         \n",
      " 0   Name        100 non-null    object        \n",
      " 1   Age         100 non-null    float64       \n",
      " 2   Gender      86 non-null     object        \n",
      " 3   Email       100 non-null    object        \n",
      " 4   Join_Date   66 non-null     object        \n",
      " 5   Salary      60 non-null     float64       \n",
      " 6   Department  100 non-null    object        \n",
      " 7   join_date   24 non-null     datetime64[ns]\n",
      "dtypes: datetime64[ns](1), float64(2), object(5)\n",
      "memory usage: 7.0+ KB\n"
     ]
    },
    {
     "name": "stderr",
     "output_type": "stream",
     "text": [
      "C:\\Users\\mayup\\AppData\\Local\\Temp\\ipykernel_14156\\4258210176.py:2: FutureWarning: A value is trying to be set on a copy of a DataFrame or Series through chained assignment using an inplace method.\n",
      "The behavior will change in pandas 3.0. This inplace method will never work because the intermediate object on which we are setting values always behaves as a copy.\n",
      "\n",
      "For example, when doing 'df[col].method(value, inplace=True)', try using 'df.method({col: value}, inplace=True)' or df[col] = df[col].method(value) instead, to perform the operation inplace on the original object.\n",
      "\n",
      "\n",
      "  ds[\"Department\"].fillna(y,inplace=True)\n"
     ]
    }
   ],
   "source": [
    "y=ds[\"Department\"].mode()[0]\n",
    "ds[\"Department\"].fillna(y,inplace=True)\n",
    "ds.info()"
   ]
  },
  {
   "cell_type": "code",
   "execution_count": 34,
   "id": "935e4963-6d75-4c96-88ef-0a3c14067add",
   "metadata": {},
   "outputs": [],
   "source": [
    "#save data into new file\n",
    "\n",
    "ds.to_csv(\"cleaned_data.csv\")"
   ]
  },
  {
   "cell_type": "code",
   "execution_count": null,
   "id": "eb85a024-93d5-4882-926d-1230da3aebb2",
   "metadata": {},
   "outputs": [],
   "source": []
  }
 ],
 "metadata": {
  "kernelspec": {
   "display_name": "Python 3 (ipykernel)",
   "language": "python",
   "name": "python3"
  },
  "language_info": {
   "codemirror_mode": {
    "name": "ipython",
    "version": 3
   },
   "file_extension": ".py",
   "mimetype": "text/x-python",
   "name": "python",
   "nbconvert_exporter": "python",
   "pygments_lexer": "ipython3",
   "version": "3.13.3"
  }
 },
 "nbformat": 4,
 "nbformat_minor": 5
}
