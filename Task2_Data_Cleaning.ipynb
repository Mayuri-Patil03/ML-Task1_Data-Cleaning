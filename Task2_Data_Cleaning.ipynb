{
 "cells": [
  {
   "cell_type": "code",
   "execution_count": 1,
   "id": "ad062453-1e25-4a0f-98ec-02952c18d00d",
   "metadata": {},
   "outputs": [],
   "source": [
    "#import libraries\n",
    "\n",
    "import numpy as np\n",
    "import pandas as pd\n",
    "import matplotlib.pyplot as plt\n",
    "import seaborn as sns"
   ]
  },
  {
   "cell_type": "code",
   "execution_count": 3,
   "id": "c35c308a-7055-43f5-8c08-ea23a5ea7613",
   "metadata": {},
   "outputs": [
    {
     "data": {
      "text/html": [
       "<div>\n",
       "<style scoped>\n",
       "    .dataframe tbody tr th:only-of-type {\n",
       "        vertical-align: middle;\n",
       "    }\n",
       "\n",
       "    .dataframe tbody tr th {\n",
       "        vertical-align: top;\n",
       "    }\n",
       "\n",
       "    .dataframe thead th {\n",
       "        text-align: right;\n",
       "    }\n",
       "</style>\n",
       "<table border=\"1\" class=\"dataframe\">\n",
       "  <thead>\n",
       "    <tr style=\"text-align: right;\">\n",
       "      <th></th>\n",
       "      <th>CustomerID</th>\n",
       "      <th>Product</th>\n",
       "      <th>Price</th>\n",
       "      <th>Quantity</th>\n",
       "      <th>City</th>\n",
       "      <th>PurchaseDate</th>\n",
       "    </tr>\n",
       "  </thead>\n",
       "  <tbody>\n",
       "    <tr>\n",
       "      <th>0</th>\n",
       "      <td>1052</td>\n",
       "      <td>Desktop</td>\n",
       "      <td>NaN</td>\n",
       "      <td>4.0</td>\n",
       "      <td>Bangalore</td>\n",
       "      <td>2021-06-30</td>\n",
       "    </tr>\n",
       "    <tr>\n",
       "      <th>1</th>\n",
       "      <td>1041</td>\n",
       "      <td>Desktop</td>\n",
       "      <td>NaN</td>\n",
       "      <td>3.0</td>\n",
       "      <td>Delhi</td>\n",
       "      <td>2023-01-21</td>\n",
       "    </tr>\n",
       "    <tr>\n",
       "      <th>2</th>\n",
       "      <td>1057</td>\n",
       "      <td>Smartphone</td>\n",
       "      <td>forty-five thousand</td>\n",
       "      <td>2.0</td>\n",
       "      <td>Bangalore</td>\n",
       "      <td>2023-04-06</td>\n",
       "    </tr>\n",
       "    <tr>\n",
       "      <th>3</th>\n",
       "      <td>1038</td>\n",
       "      <td>Tablet</td>\n",
       "      <td>45000.0</td>\n",
       "      <td>1.0</td>\n",
       "      <td>Chennai</td>\n",
       "      <td>2023-07-05</td>\n",
       "    </tr>\n",
       "    <tr>\n",
       "      <th>4</th>\n",
       "      <td>1013</td>\n",
       "      <td>Smartphone</td>\n",
       "      <td>45000.0</td>\n",
       "      <td>NaN</td>\n",
       "      <td>Mumbai</td>\n",
       "      <td>2022-04-11</td>\n",
       "    </tr>\n",
       "  </tbody>\n",
       "</table>\n",
       "</div>"
      ],
      "text/plain": [
       "   CustomerID     Product                Price Quantity       City  \\\n",
       "0        1052     Desktop                  NaN      4.0  Bangalore   \n",
       "1        1041     Desktop                  NaN      3.0      Delhi   \n",
       "2        1057  Smartphone  forty-five thousand      2.0  Bangalore   \n",
       "3        1038      Tablet              45000.0      1.0    Chennai   \n",
       "4        1013  Smartphone              45000.0      NaN     Mumbai   \n",
       "\n",
       "  PurchaseDate  \n",
       "0   2021-06-30  \n",
       "1   2023-01-21  \n",
       "2   2023-04-06  \n",
       "3   2023-07-05  \n",
       "4   2022-04-11  "
      ]
     },
     "execution_count": 3,
     "metadata": {},
     "output_type": "execute_result"
    }
   ],
   "source": [
    "ds=pd.read_csv(\"product_data.csv\")\n",
    "ds\n",
    "ds.head()"
   ]
  },
  {
   "cell_type": "raw",
   "id": "e0ed5b4f-5fdd-4811-88ef-279d1dc10a2b",
   "metadata": {},
   "source": [
    "\n"
   ]
  },
  {
   "cell_type": "code",
   "execution_count": 4,
   "id": "83621670-ebb6-4148-9430-d1aa9aab45f9",
   "metadata": {},
   "outputs": [
    {
     "name": "stdout",
     "output_type": "stream",
     "text": [
      "     CustomerID     Product                Price Quantity       City PurchaseDate\n",
      "0          1052     Desktop                  NaN      4.0  Bangalore   2021-06-30\n",
      "1          1041     Desktop                  NaN      3.0      Delhi   2023-01-21\n",
      "2          1057  Smartphone  forty-five thousand      2.0  Bangalore   2023-04-06\n",
      "3          1038      Tablet              45000.0      1.0    Chennai   2023-07-05\n",
      "4          1013  Smartphone              45000.0      NaN     Mumbai   2022-04-11\n",
      "5          1094      Laptop              60000.0      two     Mumbai   2022-03-12\n",
      "6          1004      Laptop              30000.0      2.0    Chennai   2022-02-25\n",
      "7          1034      Laptop              30000.0      2.0    Chennai   2022-12-22\n",
      "8          1086      Laptop              30000.0      3.0      Delhi   2022-10-23\n",
      "9          1092     Desktop              30000.0      3.0     Mumbai   2022-03-12\n",
      "10         1074      Laptop              45000.0      NaN  Bangalore   2021-08-14\n",
      "11         1017     Desktop              45000.0      NaN       Pune   2022-08-09\n",
      "12         1075     Desktop              30000.0      1.0       Pune   2021-09-28\n",
      "13         1008      Laptop              60000.0      1.0    Chennai   2021-09-13\n",
      "14         1073      Laptop              15000.0      NaN      Delhi   2021-01-01\n",
      "15         1057      Tablet              15000.0      NaN       Pune   2022-11-22\n",
      "16         1016  Smartphone              60000.0      4.0     Mumbai   2023-09-03\n",
      "17         1006      Laptop              30000.0      3.0    Chennai   2022-07-10\n",
      "18         1045      Tablet              45000.0      1.0  Bangalore   2023-01-21\n",
      "19         1012      Tablet              15000.0      3.0    Chennai   2023-07-20\n",
      "20         1039  Smartphone                  NaN      3.0  Bangalore   2021-02-15\n",
      "21         1041     Desktop                  NaN      NaN    Chennai   2021-01-01\n",
      "22         1008      Laptop              60000.0      4.0    Chennai   2021-04-16\n",
      "23         1049  Smartphone              30000.0      2.0    Chennai   2022-02-25\n",
      "24         1026      Laptop              15000.0      4.0  Bangalore   2023-03-22\n",
      "25         1065      Tablet              30000.0      4.0  Bangalore   2021-01-31\n",
      "26         1004      Tablet              15000.0      3.0    Chennai   2022-04-11\n",
      "27         1028     Desktop              60000.0      4.0       Pune   2021-05-16\n",
      "28         1036      Tablet              60000.0      1.0      Delhi   2022-05-11\n",
      "29         1037      Tablet                  NaN      3.0      Delhi   2023-03-22\n",
      "30         1082  Smartphone              30000.0      1.0      Delhi   2022-04-11\n",
      "31         1007      Laptop                  NaN      2.0  Bangalore   2023-01-06\n",
      "32         1064      Laptop              30000.0      3.0  Bangalore   2021-04-01\n",
      "33         1085  Smartphone                  NaN      2.0       Pune   2021-04-16\n",
      "34         1016     Desktop              45000.0      3.0      Delhi   2023-08-19\n",
      "35         1070      Laptop              45000.0      NaN      Delhi   2023-04-21\n",
      "36         1088      Tablet              45000.0      4.0    Chennai   2023-09-18\n",
      "37         1044      Laptop              45000.0      NaN  Bangalore   2023-05-21\n",
      "38         1003      Tablet              15000.0      2.0      Delhi   2023-12-02\n",
      "39         1035     Desktop              45000.0      4.0       Pune   2023-03-07\n",
      "40         1069  Smartphone              60000.0      3.0       Pune   2023-09-18\n",
      "41         1030      Laptop              60000.0      4.0      Delhi   2023-01-21\n",
      "42         1018  Smartphone              15000.0      1.0  Bangalore   2021-04-16\n",
      "43         1060      Laptop              45000.0      4.0       Pune   2022-05-11\n",
      "44         1053      Tablet              45000.0      1.0    Chennai   2022-05-26\n",
      "45         1038  Smartphone              45000.0      4.0       Pune   2022-04-11\n",
      "46         1090      Laptop                  NaN      1.0     Mumbai   2022-11-07\n",
      "47         1073      Tablet              30000.0      2.0     Mumbai   2021-08-14\n",
      "48         1089  Smartphone                  NaN      NaN  Bangalore   2023-10-03\n",
      "49         1018  Smartphone              30000.0      3.0      Delhi   2022-06-25\n",
      "50         1038      Laptop              45000.0      4.0  Bangalore   2023-03-07\n",
      "51         1066      Laptop              45000.0      NaN  Bangalore   2021-07-15\n",
      "52         1044      Laptop                  NaN      3.0  Bangalore   2023-03-22\n",
      "53         1012      Tablet                  NaN      3.0  Bangalore   2022-12-07\n",
      "54         1091      Laptop              30000.0      1.0    Chennai   2021-04-01\n",
      "55         1057  Smartphone              60000.0      2.0    Chennai   2021-04-01\n",
      "56         1019  Smartphone              30000.0      2.0       Pune   2022-04-26\n",
      "57         1091      Laptop                  NaN      NaN     Mumbai   2021-11-27\n",
      "58         1071      Laptop                  NaN      2.0  Bangalore   2021-09-28\n",
      "59         1060     Desktop              15000.0      4.0       Pune   2021-09-28\n",
      "60         1038  Smartphone                  NaN      2.0     Mumbai   2022-06-10\n",
      "61         1000      Tablet              15000.0      NaN      Delhi   2022-02-25\n",
      "62         1002     Desktop              60000.0      2.0    Chennai   2023-06-05\n",
      "63         1076      Laptop              30000.0      4.0     Mumbai   2021-01-16\n",
      "64         1091      Laptop              30000.0      1.0      Delhi   2021-01-01\n",
      "65         1061  Smartphone              15000.0      NaN     Mumbai   2022-11-22\n",
      "66         1062      Laptop              30000.0      1.0    Chennai   2023-10-18\n",
      "67         1024      Tablet                  NaN      1.0    Chennai   2021-10-13\n",
      "68         1055  Smartphone              45000.0      1.0       Pune   2021-05-31\n",
      "69         1032      Laptop              15000.0      3.0  Bangalore   2021-01-16\n",
      "70         1037  Smartphone              30000.0      3.0     Mumbai   2023-09-18\n",
      "71         1005      Laptop              15000.0      1.0     Mumbai   2021-06-15\n",
      "72         1057      Laptop              15000.0      NaN      Delhi   2021-10-13\n",
      "73         1043      Laptop              45000.0      4.0    Chennai   2021-03-02\n",
      "74         1044      Tablet                  NaN      4.0     Mumbai   2022-06-25\n",
      "75         1031      Tablet              15000.0      2.0    Chennai   2022-07-10\n",
      "76         1044  Smartphone              30000.0      NaN     Mumbai   2021-05-01\n",
      "77         1060      Laptop              60000.0      3.0       Pune   2023-02-20\n",
      "78         1046      Laptop              15000.0      1.0  Bangalore   2022-10-08\n",
      "79         1020      Tablet              15000.0      2.0     Mumbai   2021-12-12\n",
      "80         1079      Laptop              45000.0      4.0    Chennai   2022-03-12\n",
      "81         1084      Tablet                  NaN      3.0       Pune   2023-05-21\n",
      "82         1074      Laptop              60000.0      3.0     Mumbai   2021-07-15\n",
      "83         1035  Smartphone              30000.0      1.0      Delhi   2021-05-01\n",
      "84         1098      Laptop              60000.0      4.0  Bangalore   2022-08-09\n",
      "85         1018      Laptop              30000.0      NaN     Mumbai   2023-09-03\n",
      "86         1019     Desktop                  NaN      3.0       Pune   2021-12-27\n",
      "87         1056      Tablet              30000.0      1.0      Delhi   2023-12-17\n",
      "88         1017      Laptop              45000.0      NaN       Pune   2021-11-12\n",
      "89         1046      Laptop              45000.0      4.0       Pune   2021-02-15\n",
      "90         1048     Desktop              45000.0      3.0      Delhi   2022-01-11\n",
      "91         1013     Desktop              45000.0      NaN       Pune   2023-05-06\n",
      "92         1014      Tablet              60000.0      NaN      Delhi   2022-02-25\n",
      "93         1030     Desktop                  NaN      NaN     Mumbai   2022-06-25\n",
      "94         1000  Smartphone              30000.0      3.0      Delhi   2023-11-02\n",
      "95         1053     Desktop              30000.0      3.0      Delhi   2021-09-13\n",
      "96         1002  Smartphone              45000.0      2.0  Bangalore   2022-09-08\n",
      "97         1015      Tablet              45000.0      4.0      Delhi   2022-08-24\n",
      "98         1086      Tablet              15000.0      1.0      Delhi   2022-07-10\n",
      "99         1056      Tablet                  NaN      NaN     Mumbai   2022-05-11\n",
      "100        1074      Tablet              60000.0      2.0  Bangalore   2021-08-29\n",
      "101        1011      Tablet              30000.0      1.0    Chennai   2022-06-25\n",
      "102        1073  Smartphone              15000.0      2.0     Mumbai   2021-12-27\n",
      "103        1095  Smartphone              15000.0      3.0     Mumbai   2022-01-26\n",
      "104        1015      Tablet              30000.0      NaN    Chennai   2023-04-21\n",
      "105        1071     Desktop              60000.0      1.0      Delhi   2022-03-27\n",
      "106        1075      Laptop              15000.0      1.0       Pune   2021-03-17\n",
      "107        1023      Tablet              15000.0      1.0  Bangalore   2022-08-09\n",
      "108        1027     Desktop                  NaN      1.0       Pune   2021-06-15\n",
      "109        1007      Laptop              60000.0      1.0    Chennai   2023-02-20\n",
      "110        1091      Tablet              15000.0      2.0     Mumbai   2023-11-17\n",
      "111        1035      Tablet              60000.0      NaN     Mumbai   2021-05-16\n",
      "112        1089  Smartphone              30000.0      3.0  Bangalore   2022-10-23\n",
      "113        1007      Laptop              45000.0      3.0     Mumbai   2021-08-29\n",
      "114        1057      Laptop              15000.0      3.0     Mumbai   2022-01-11\n",
      "115        1059     Desktop                  NaN      3.0  Bangalore   2023-07-05\n",
      "116        1049  Smartphone              30000.0      2.0  Bangalore   2022-11-07\n",
      "117        1027  Smartphone              60000.0      4.0    Chennai   2023-08-04\n",
      "118        1091  Smartphone              30000.0      NaN     Mumbai   2021-01-16\n",
      "119        1040  Smartphone              15000.0      1.0     Mumbai   2023-03-07\n",
      "120        1074      Laptop              45000.0      NaN  Bangalore   2021-08-14\n",
      "121        1017     Desktop              45000.0      NaN       Pune   2022-08-09\n",
      "122        1075     Desktop              30000.0      1.0       Pune   2021-09-28\n",
      "123        1008      Laptop              60000.0      1.0    Chennai   2021-09-13\n",
      "124        1073      Laptop              15000.0      NaN      Delhi   2021-01-01\n"
     ]
    }
   ],
   "source": [
    "print(ds.to_string())"
   ]
  },
  {
   "cell_type": "code",
   "execution_count": 5,
   "id": "cc6b28e0-e345-4bee-8db0-8284ee74473e",
   "metadata": {},
   "outputs": [
    {
     "name": "stdout",
     "output_type": "stream",
     "text": [
      "<class 'pandas.core.frame.DataFrame'>\n",
      "RangeIndex: 125 entries, 0 to 124\n",
      "Data columns (total 6 columns):\n",
      " #   Column        Non-Null Count  Dtype \n",
      "---  ------        --------------  ----- \n",
      " 0   CustomerID    125 non-null    int64 \n",
      " 1   Product       125 non-null    object\n",
      " 2   Price         103 non-null    object\n",
      " 3   Quantity      98 non-null     object\n",
      " 4   City          125 non-null    object\n",
      " 5   PurchaseDate  125 non-null    object\n",
      "dtypes: int64(1), object(5)\n",
      "memory usage: 6.0+ KB\n"
     ]
    }
   ],
   "source": [
    "ds.info()"
   ]
  },
  {
   "cell_type": "code",
   "execution_count": 6,
   "id": "ce5e758c-8038-49db-a211-b9fde25df61c",
   "metadata": {},
   "outputs": [
    {
     "data": {
      "text/html": [
       "<div>\n",
       "<style scoped>\n",
       "    .dataframe tbody tr th:only-of-type {\n",
       "        vertical-align: middle;\n",
       "    }\n",
       "\n",
       "    .dataframe tbody tr th {\n",
       "        vertical-align: top;\n",
       "    }\n",
       "\n",
       "    .dataframe thead th {\n",
       "        text-align: right;\n",
       "    }\n",
       "</style>\n",
       "<table border=\"1\" class=\"dataframe\">\n",
       "  <thead>\n",
       "    <tr style=\"text-align: right;\">\n",
       "      <th></th>\n",
       "      <th>CustomerID</th>\n",
       "    </tr>\n",
       "  </thead>\n",
       "  <tbody>\n",
       "    <tr>\n",
       "      <th>count</th>\n",
       "      <td>125.000000</td>\n",
       "    </tr>\n",
       "    <tr>\n",
       "      <th>mean</th>\n",
       "      <td>1045.936000</td>\n",
       "    </tr>\n",
       "    <tr>\n",
       "      <th>std</th>\n",
       "      <td>28.183942</td>\n",
       "    </tr>\n",
       "    <tr>\n",
       "      <th>min</th>\n",
       "      <td>1000.000000</td>\n",
       "    </tr>\n",
       "    <tr>\n",
       "      <th>25%</th>\n",
       "      <td>1019.000000</td>\n",
       "    </tr>\n",
       "    <tr>\n",
       "      <th>50%</th>\n",
       "      <td>1044.000000</td>\n",
       "    </tr>\n",
       "    <tr>\n",
       "      <th>75%</th>\n",
       "      <td>1071.000000</td>\n",
       "    </tr>\n",
       "    <tr>\n",
       "      <th>max</th>\n",
       "      <td>1098.000000</td>\n",
       "    </tr>\n",
       "  </tbody>\n",
       "</table>\n",
       "</div>"
      ],
      "text/plain": [
       "        CustomerID\n",
       "count   125.000000\n",
       "mean   1045.936000\n",
       "std      28.183942\n",
       "min    1000.000000\n",
       "25%    1019.000000\n",
       "50%    1044.000000\n",
       "75%    1071.000000\n",
       "max    1098.000000"
      ]
     },
     "execution_count": 6,
     "metadata": {},
     "output_type": "execute_result"
    }
   ],
   "source": [
    "ds.describe()"
   ]
  },
  {
   "cell_type": "code",
   "execution_count": 9,
   "id": "25282f0d-e133-4e85-b5af-b407f287f32c",
   "metadata": {},
   "outputs": [
    {
     "data": {
      "text/plain": [
       "np.int64(0)"
      ]
     },
     "execution_count": 9,
     "metadata": {},
     "output_type": "execute_result"
    }
   ],
   "source": [
    "#searching for duplications\n",
    "ds.duplicated().sum()"
   ]
  },
  {
   "cell_type": "code",
   "execution_count": 8,
   "id": "24b9270b-eb9e-4406-bc05-139c49ef58f2",
   "metadata": {},
   "outputs": [],
   "source": [
    "#Remove duplications\n",
    "ds.drop_duplicates(inplace=True)"
   ]
  },
  {
   "cell_type": "code",
   "execution_count": 11,
   "id": "30f19a98-5945-4d20-a167-66dc4b33f6f1",
   "metadata": {},
   "outputs": [
    {
     "data": {
      "text/plain": [
       "Index(['CustomerID', 'Product', 'Price', 'Quantity', 'City', 'PurchaseDate'], dtype='object')"
      ]
     },
     "execution_count": 11,
     "metadata": {},
     "output_type": "execute_result"
    }
   ],
   "source": [
    "ds.columns"
   ]
  },
  {
   "cell_type": "code",
   "execution_count": 29,
   "id": "2c4ca909-fb2b-4c8f-a04b-5779a59d3cb9",
   "metadata": {},
   "outputs": [
    {
     "name": "stdout",
     "output_type": "stream",
     "text": [
      "<class 'pandas.core.frame.DataFrame'>\n",
      "Index: 120 entries, 0 to 119\n",
      "Data columns (total 6 columns):\n",
      " #   Column        Non-Null Count  Dtype         \n",
      "---  ------        --------------  -----         \n",
      " 0   CustomerID    120 non-null    int64         \n",
      " 1   Product       120 non-null    object        \n",
      " 2   Price         119 non-null    float64       \n",
      " 3   Quantity      120 non-null    object        \n",
      " 4   City          120 non-null    object        \n",
      " 5   PurchaseDate  120 non-null    datetime64[ns]\n",
      "dtypes: datetime64[ns](1), float64(1), int64(1), object(3)\n",
      "memory usage: 6.6+ KB\n"
     ]
    }
   ],
   "source": [
    "ds[\"Price\"].fillna(2"
   ]
  },
  {
   "cell_type": "code",
   "execution_count": 22,
   "id": "46689cdd-510d-4f51-a890-6f9d4d13a2b0",
   "metadata": {},
   "outputs": [
    {
     "name": "stdout",
     "output_type": "stream",
     "text": [
      "<class 'pandas.core.frame.DataFrame'>\n",
      "Index: 120 entries, 0 to 119\n",
      "Data columns (total 6 columns):\n",
      " #   Column        Non-Null Count  Dtype         \n",
      "---  ------        --------------  -----         \n",
      " 0   CustomerID    120 non-null    int64         \n",
      " 1   Product       120 non-null    object        \n",
      " 2   Price         119 non-null    float64       \n",
      " 3   Quantity      120 non-null    object        \n",
      " 4   City          120 non-null    object        \n",
      " 5   PurchaseDate  120 non-null    datetime64[ns]\n",
      "dtypes: datetime64[ns](1), float64(1), int64(1), object(3)\n",
      "memory usage: 6.6+ KB\n"
     ]
    }
   ],
   "source": [
    "ds[\"Quantity\"].fillna(\"None\",inplace=True)\n",
    "ds.info()"
   ]
  },
  {
   "cell_type": "code",
   "execution_count": 16,
   "id": "2c23fcf2-3a2f-4bb6-af9d-ac16bd8c14a3",
   "metadata": {},
   "outputs": [
    {
     "name": "stdout",
     "output_type": "stream",
     "text": [
      "<class 'pandas.core.frame.DataFrame'>\n",
      "Index: 120 entries, 0 to 119\n",
      "Data columns (total 6 columns):\n",
      " #   Column        Non-Null Count  Dtype         \n",
      "---  ------        --------------  -----         \n",
      " 0   CustomerID    120 non-null    int64         \n",
      " 1   Product       120 non-null    object        \n",
      " 2   Price         120 non-null    object        \n",
      " 3   Quantity      120 non-null    object        \n",
      " 4   City          120 non-null    object        \n",
      " 5   PurchaseDate  120 non-null    datetime64[ns]\n",
      "dtypes: datetime64[ns](1), int64(1), object(4)\n",
      "memory usage: 6.6+ KB\n"
     ]
    }
   ],
   "source": [
    "ds[\"PurchaseDate\"]=pd.to_datetime(ds[\"PurchaseDate\"],errors=\"coerce\")\n",
    "ds.info()\n"
   ]
  },
  {
   "cell_type": "code",
   "execution_count": 17,
   "id": "62ac4df4-af80-40df-99ea-ec4c74d6380c",
   "metadata": {},
   "outputs": [
    {
     "name": "stdout",
     "output_type": "stream",
     "text": [
      "<class 'pandas.core.frame.DataFrame'>\n",
      "Index: 120 entries, 0 to 119\n",
      "Data columns (total 6 columns):\n",
      " #   Column        Non-Null Count  Dtype         \n",
      "---  ------        --------------  -----         \n",
      " 0   CustomerID    120 non-null    int64         \n",
      " 1   Product       120 non-null    object        \n",
      " 2   Price         119 non-null    float64       \n",
      " 3   Quantity      120 non-null    object        \n",
      " 4   City          120 non-null    object        \n",
      " 5   PurchaseDate  120 non-null    datetime64[ns]\n",
      "dtypes: datetime64[ns](1), float64(1), int64(1), object(3)\n",
      "memory usage: 6.6+ KB\n"
     ]
    }
   ],
   "source": [
    "ds[\"Price\"]=pd.to_numeric(ds[\"Price\"],errors=\"coerce\")\n",
    "ds.info()\n"
   ]
  },
  {
   "cell_type": "code",
   "execution_count": 18,
   "id": "7244f71d-cb14-4cd7-87e3-e5df68a4cd1f",
   "metadata": {},
   "outputs": [
    {
     "name": "stdout",
     "output_type": "stream",
     "text": [
      "<class 'pandas.core.frame.DataFrame'>\n",
      "Index: 120 entries, 0 to 119\n",
      "Data columns (total 6 columns):\n",
      " #   Column        Non-Null Count  Dtype         \n",
      "---  ------        --------------  -----         \n",
      " 0   CustomerID    120 non-null    int64         \n",
      " 1   Product       120 non-null    object        \n",
      " 2   Price         119 non-null    float64       \n",
      " 3   Quantity      95 non-null     float64       \n",
      " 4   City          120 non-null    object        \n",
      " 5   PurchaseDate  120 non-null    datetime64[ns]\n",
      "dtypes: datetime64[ns](1), float64(2), int64(1), object(2)\n",
      "memory usage: 6.6+ KB\n"
     ]
    }
   ],
   "source": [
    "ds[\"Quantity\"]=pd.to_numeric(ds[\"Quantity\"],errors=\"coerce\")\n",
    "ds.info()\n"
   ]
  },
  {
   "cell_type": "code",
   "execution_count": 26,
   "id": "98eee81f-39cb-4cfd-8f57-0414eff15ea3",
   "metadata": {},
   "outputs": [
    {
     "name": "stdout",
     "output_type": "stream",
     "text": [
      "     CustomerID     Product     Price Quantity       City PurchaseDate\n",
      "0          1052     Desktop  300000.0      4.0  Bangalore   2021-06-30\n",
      "1          1041     Desktop  300000.0      3.0      Delhi   2023-01-21\n",
      "2          1057  Smartphone       NaN      2.0  Bangalore   2023-04-06\n",
      "3          1038      Tablet   45000.0      1.0    Chennai   2023-07-05\n",
      "4          1013  Smartphone   45000.0     None     Mumbai   2022-04-11\n",
      "5          1094      Laptop   60000.0     None     Mumbai   2022-03-12\n",
      "6          1004      Laptop   30000.0      2.0    Chennai   2022-02-25\n",
      "7          1034      Laptop   30000.0      2.0    Chennai   2022-12-22\n",
      "8          1086      Laptop   30000.0      3.0      Delhi   2022-10-23\n",
      "9          1092     Desktop   30000.0      3.0     Mumbai   2022-03-12\n",
      "10         1074      Laptop   45000.0     None  Bangalore   2021-08-14\n",
      "11         1017     Desktop   45000.0     None       Pune   2022-08-09\n",
      "12         1075     Desktop   30000.0      1.0       Pune   2021-09-28\n",
      "13         1008      Laptop   60000.0      1.0    Chennai   2021-09-13\n",
      "14         1073      Laptop   15000.0     None      Delhi   2021-01-01\n",
      "15         1057      Tablet   15000.0     None       Pune   2022-11-22\n",
      "16         1016  Smartphone   60000.0      4.0     Mumbai   2023-09-03\n",
      "17         1006      Laptop   30000.0      3.0    Chennai   2022-07-10\n",
      "18         1045      Tablet   45000.0      1.0  Bangalore   2023-01-21\n",
      "19         1012      Tablet   15000.0      3.0    Chennai   2023-07-20\n",
      "20         1039  Smartphone  300000.0      3.0  Bangalore   2021-02-15\n",
      "21         1041     Desktop  300000.0     None    Chennai   2021-01-01\n",
      "22         1008      Laptop   60000.0      4.0    Chennai   2021-04-16\n",
      "23         1049  Smartphone   30000.0      2.0    Chennai   2022-02-25\n",
      "24         1026      Laptop   15000.0      4.0  Bangalore   2023-03-22\n",
      "25         1065      Tablet   30000.0      4.0  Bangalore   2021-01-31\n",
      "26         1004      Tablet   15000.0      3.0    Chennai   2022-04-11\n",
      "27         1028     Desktop   60000.0      4.0       Pune   2021-05-16\n",
      "28         1036      Tablet   60000.0      1.0      Delhi   2022-05-11\n",
      "29         1037      Tablet  300000.0      3.0      Delhi   2023-03-22\n",
      "30         1082  Smartphone   30000.0      1.0      Delhi   2022-04-11\n",
      "31         1007      Laptop  300000.0      2.0  Bangalore   2023-01-06\n",
      "32         1064      Laptop   30000.0      3.0  Bangalore   2021-04-01\n",
      "33         1085  Smartphone  300000.0      2.0       Pune   2021-04-16\n",
      "34         1016     Desktop   45000.0      3.0      Delhi   2023-08-19\n",
      "35         1070      Laptop   45000.0     None      Delhi   2023-04-21\n",
      "36         1088      Tablet   45000.0      4.0    Chennai   2023-09-18\n",
      "37         1044      Laptop   45000.0     None  Bangalore   2023-05-21\n",
      "38         1003      Tablet   15000.0      2.0      Delhi   2023-12-02\n",
      "39         1035     Desktop   45000.0      4.0       Pune   2023-03-07\n",
      "40         1069  Smartphone   60000.0      3.0       Pune   2023-09-18\n",
      "41         1030      Laptop   60000.0      4.0      Delhi   2023-01-21\n",
      "42         1018  Smartphone   15000.0      1.0  Bangalore   2021-04-16\n",
      "43         1060      Laptop   45000.0      4.0       Pune   2022-05-11\n",
      "44         1053      Tablet   45000.0      1.0    Chennai   2022-05-26\n",
      "45         1038  Smartphone   45000.0      4.0       Pune   2022-04-11\n",
      "46         1090      Laptop  300000.0      1.0     Mumbai   2022-11-07\n",
      "47         1073      Tablet   30000.0      2.0     Mumbai   2021-08-14\n",
      "48         1089  Smartphone  300000.0     None  Bangalore   2023-10-03\n",
      "49         1018  Smartphone   30000.0      3.0      Delhi   2022-06-25\n",
      "50         1038      Laptop   45000.0      4.0  Bangalore   2023-03-07\n",
      "51         1066      Laptop   45000.0     None  Bangalore   2021-07-15\n",
      "52         1044      Laptop  300000.0      3.0  Bangalore   2023-03-22\n",
      "53         1012      Tablet  300000.0      3.0  Bangalore   2022-12-07\n",
      "54         1091      Laptop   30000.0      1.0    Chennai   2021-04-01\n",
      "55         1057  Smartphone   60000.0      2.0    Chennai   2021-04-01\n",
      "56         1019  Smartphone   30000.0      2.0       Pune   2022-04-26\n",
      "57         1091      Laptop  300000.0     None     Mumbai   2021-11-27\n",
      "58         1071      Laptop  300000.0      2.0  Bangalore   2021-09-28\n",
      "59         1060     Desktop   15000.0      4.0       Pune   2021-09-28\n",
      "60         1038  Smartphone  300000.0      2.0     Mumbai   2022-06-10\n",
      "61         1000      Tablet   15000.0     None      Delhi   2022-02-25\n",
      "62         1002     Desktop   60000.0      2.0    Chennai   2023-06-05\n",
      "63         1076      Laptop   30000.0      4.0     Mumbai   2021-01-16\n",
      "64         1091      Laptop   30000.0      1.0      Delhi   2021-01-01\n",
      "65         1061  Smartphone   15000.0     None     Mumbai   2022-11-22\n",
      "66         1062      Laptop   30000.0      1.0    Chennai   2023-10-18\n",
      "67         1024      Tablet  300000.0      1.0    Chennai   2021-10-13\n",
      "68         1055  Smartphone   45000.0      1.0       Pune   2021-05-31\n",
      "69         1032      Laptop   15000.0      3.0  Bangalore   2021-01-16\n",
      "70         1037  Smartphone   30000.0      3.0     Mumbai   2023-09-18\n",
      "71         1005      Laptop   15000.0      1.0     Mumbai   2021-06-15\n",
      "72         1057      Laptop   15000.0     None      Delhi   2021-10-13\n",
      "73         1043      Laptop   45000.0      4.0    Chennai   2021-03-02\n",
      "74         1044      Tablet  300000.0      4.0     Mumbai   2022-06-25\n",
      "75         1031      Tablet   15000.0      2.0    Chennai   2022-07-10\n",
      "76         1044  Smartphone   30000.0     None     Mumbai   2021-05-01\n",
      "77         1060      Laptop   60000.0      3.0       Pune   2023-02-20\n",
      "78         1046      Laptop   15000.0      1.0  Bangalore   2022-10-08\n",
      "79         1020      Tablet   15000.0      2.0     Mumbai   2021-12-12\n",
      "80         1079      Laptop   45000.0      4.0    Chennai   2022-03-12\n",
      "81         1084      Tablet  300000.0      3.0       Pune   2023-05-21\n",
      "82         1074      Laptop   60000.0      3.0     Mumbai   2021-07-15\n",
      "83         1035  Smartphone   30000.0      1.0      Delhi   2021-05-01\n",
      "84         1098      Laptop   60000.0      4.0  Bangalore   2022-08-09\n",
      "85         1018      Laptop   30000.0     None     Mumbai   2023-09-03\n",
      "86         1019     Desktop  300000.0      3.0       Pune   2021-12-27\n",
      "87         1056      Tablet   30000.0      1.0      Delhi   2023-12-17\n",
      "88         1017      Laptop   45000.0     None       Pune   2021-11-12\n",
      "89         1046      Laptop   45000.0      4.0       Pune   2021-02-15\n",
      "90         1048     Desktop   45000.0      3.0      Delhi   2022-01-11\n",
      "91         1013     Desktop   45000.0     None       Pune   2023-05-06\n",
      "92         1014      Tablet   60000.0     None      Delhi   2022-02-25\n",
      "93         1030     Desktop  300000.0     None     Mumbai   2022-06-25\n",
      "94         1000  Smartphone   30000.0      3.0      Delhi   2023-11-02\n",
      "95         1053     Desktop   30000.0      3.0      Delhi   2021-09-13\n",
      "96         1002  Smartphone   45000.0      2.0  Bangalore   2022-09-08\n",
      "97         1015      Tablet   45000.0      4.0      Delhi   2022-08-24\n",
      "98         1086      Tablet   15000.0      1.0      Delhi   2022-07-10\n",
      "99         1056      Tablet  300000.0     None     Mumbai   2022-05-11\n",
      "100        1074      Tablet   60000.0      2.0  Bangalore   2021-08-29\n",
      "101        1011      Tablet   30000.0      1.0    Chennai   2022-06-25\n",
      "102        1073  Smartphone   15000.0      2.0     Mumbai   2021-12-27\n",
      "103        1095  Smartphone   15000.0      3.0     Mumbai   2022-01-26\n",
      "104        1015      Tablet   30000.0     None    Chennai   2023-04-21\n",
      "105        1071     Desktop   60000.0      1.0      Delhi   2022-03-27\n",
      "106        1075      Laptop   15000.0      1.0       Pune   2021-03-17\n",
      "107        1023      Tablet   15000.0      1.0  Bangalore   2022-08-09\n",
      "108        1027     Desktop  300000.0      1.0       Pune   2021-06-15\n",
      "109        1007      Laptop   60000.0      1.0    Chennai   2023-02-20\n",
      "110        1091      Tablet   15000.0      2.0     Mumbai   2023-11-17\n",
      "111        1035      Tablet   60000.0     None     Mumbai   2021-05-16\n",
      "112        1089  Smartphone   30000.0      3.0  Bangalore   2022-10-23\n",
      "113        1007      Laptop   45000.0      3.0     Mumbai   2021-08-29\n",
      "114        1057      Laptop   15000.0      3.0     Mumbai   2022-01-11\n",
      "115        1059     Desktop  300000.0      3.0  Bangalore   2023-07-05\n",
      "116        1049  Smartphone   30000.0      2.0  Bangalore   2022-11-07\n",
      "117        1027  Smartphone   60000.0      4.0    Chennai   2023-08-04\n",
      "118        1091  Smartphone   30000.0     None     Mumbai   2021-01-16\n",
      "119        1040  Smartphone   15000.0      1.0     Mumbai   2023-03-07\n"
     ]
    }
   ],
   "source": [
    "print(ds.to_string())"
   ]
  },
  {
   "cell_type": "code",
   "execution_count": 30,
   "id": "22db6eb8-b417-4177-b597-db170e4c89b2",
   "metadata": {},
   "outputs": [
    {
     "name": "stdout",
     "output_type": "stream",
     "text": [
      "<class 'pandas.core.frame.DataFrame'>\n",
      "Index: 120 entries, 0 to 119\n",
      "Data columns (total 6 columns):\n",
      " #   Column        Non-Null Count  Dtype         \n",
      "---  ------        --------------  -----         \n",
      " 0   CustomerID    120 non-null    int64         \n",
      " 1   Product       120 non-null    object        \n",
      " 2   Price         119 non-null    float64       \n",
      " 3   Quantity      120 non-null    object        \n",
      " 4   City          120 non-null    object        \n",
      " 5   PurchaseDate  120 non-null    datetime64[ns]\n",
      "dtypes: datetime64[ns](1), float64(1), int64(1), object(3)\n",
      "memory usage: 6.6+ KB\n"
     ]
    }
   ],
   "source": [
    "ds.info()"
   ]
  },
  {
   "cell_type": "code",
   "execution_count": 19,
   "id": "bad82a0c-d091-4d1a-9549-7d9967165f67",
   "metadata": {},
   "outputs": [],
   "source": [
    "#save data into new file\n",
    "\n",
    "ds.to_csv(\"cleaned_data2.csv\")"
   ]
  },
  {
   "cell_type": "code",
   "execution_count": null,
   "id": "2ccdb257-f7fd-4a57-a3ba-379dd6f8d7c2",
   "metadata": {},
   "outputs": [],
   "source": []
  },
  {
   "cell_type": "code",
   "execution_count": null,
   "id": "52f2c5e8-c75c-401e-9c3d-fb18089e53d8",
   "metadata": {},
   "outputs": [],
   "source": []
  }
 ],
 "metadata": {
  "kernelspec": {
   "display_name": "Python 3 (ipykernel)",
   "language": "python",
   "name": "python3"
  },
  "language_info": {
   "codemirror_mode": {
    "name": "ipython",
    "version": 3
   },
   "file_extension": ".py",
   "mimetype": "text/x-python",
   "name": "python",
   "nbconvert_exporter": "python",
   "pygments_lexer": "ipython3",
   "version": "3.13.3"
  }
 },
 "nbformat": 4,
 "nbformat_minor": 5
}
